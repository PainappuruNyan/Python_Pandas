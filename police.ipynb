{
  "nbformat": 4,
  "nbformat_minor": 5,
  "metadata": {
    "kernelspec": {
      "display_name": "Python 3 (ipykernel)",
      "language": "python",
      "name": "python3"
    },
    "language_info": {
      "codemirror_mode": {
        "name": "ipython",
        "version": 3
      },
      "file_extension": ".py",
      "mimetype": "text/x-python",
      "name": "python",
      "nbconvert_exporter": "python",
      "pygments_lexer": "ipython3",
      "version": "3.9.6"
    },
    "colab": {
      "name": "police.ipynb",
      "provenance": [],
      "collapsed_sections": [],
      "include_colab_link": true
    }
  },
  "cells": [
    {
      "cell_type": "markdown",
      "metadata": {
        "id": "view-in-github",
        "colab_type": "text"
      },
      "source": [
        "<a href=\"https://colab.research.google.com/github/PainappuruNyan/Python_Pandas/blob/main/police.ipynb\" target=\"_parent\"><img src=\"https://colab.research.google.com/assets/colab-badge.svg\" alt=\"Open In Colab\"/></a>"
      ]
    },
    {
      "cell_type": "code",
      "metadata": {
        "id": "7147db2a"
      },
      "source": [
        "import pandas as pd\n",
        "\n",
        "import matplotlib"
      ],
      "id": "7147db2a",
      "execution_count": 54,
      "outputs": []
    },
    {
      "cell_type": "code",
      "metadata": {
        "id": "4e9ff8d2"
      },
      "source": [
        "df = pd.read_csv('/police.csv')"
      ],
      "id": "4e9ff8d2",
      "execution_count": 55,
      "outputs": []
    },
    {
      "cell_type": "code",
      "metadata": {
        "colab": {
          "base_uri": "https://localhost:8080/"
        },
        "id": "27179220",
        "outputId": "f8513e60-4df0-485d-b602-52af4dfecc57"
      },
      "source": [
        "df.info()"
      ],
      "id": "27179220",
      "execution_count": 56,
      "outputs": [
        {
          "output_type": "stream",
          "text": [
            "<class 'pandas.core.frame.DataFrame'>\n",
            "RangeIndex: 91741 entries, 0 to 91740\n",
            "Data columns (total 15 columns):\n",
            " #   Column              Non-Null Count  Dtype  \n",
            "---  ------              --------------  -----  \n",
            " 0   stop_date           91741 non-null  object \n",
            " 1   stop_time           91741 non-null  object \n",
            " 2   county_name         0 non-null      float64\n",
            " 3   driver_gender       86406 non-null  object \n",
            " 4   driver_age_raw      86414 non-null  float64\n",
            " 5   driver_age          86120 non-null  float64\n",
            " 6   driver_race         86408 non-null  object \n",
            " 7   violation_raw       86408 non-null  object \n",
            " 8   violation           86408 non-null  object \n",
            " 9   search_conducted    91741 non-null  bool   \n",
            " 10  search_type         3196 non-null   object \n",
            " 11  stop_outcome        86408 non-null  object \n",
            " 12  is_arrested         86408 non-null  object \n",
            " 13  stop_duration       86408 non-null  object \n",
            " 14  drugs_related_stop  91741 non-null  bool   \n",
            "dtypes: bool(2), float64(3), object(10)\n",
            "memory usage: 9.3+ MB\n"
          ],
          "name": "stdout"
        }
      ]
    },
    {
      "cell_type": "code",
      "metadata": {
        "id": "1adb77c3"
      },
      "source": [
        "sexCol = 'driver_gender'\n",
        "ageCol = 'driver_age'\n",
        "raceCol = 'driver_race'\n",
        "arrestCol = 'is_arrested'\n",
        "drugCol = 'drugs_related_stop'\n",
        "violation = 'violation'\n",
        "\n",
        "ageGroup = 'age_group'"
      ],
      "id": "1adb77c3",
      "execution_count": 57,
      "outputs": []
    },
    {
      "cell_type": "code",
      "metadata": {
        "scrolled": true,
        "colab": {
          "base_uri": "https://localhost:8080/",
          "height": 763
        },
        "id": "aa35eb24",
        "outputId": "738ee138-0d5c-4045-c81d-afe7b66e5f66"
      },
      "source": [
        "df[:15]"
      ],
      "id": "aa35eb24",
      "execution_count": 58,
      "outputs": [
        {
          "output_type": "execute_result",
          "data": {
            "text/html": [
              "<div>\n",
              "<style scoped>\n",
              "    .dataframe tbody tr th:only-of-type {\n",
              "        vertical-align: middle;\n",
              "    }\n",
              "\n",
              "    .dataframe tbody tr th {\n",
              "        vertical-align: top;\n",
              "    }\n",
              "\n",
              "    .dataframe thead th {\n",
              "        text-align: right;\n",
              "    }\n",
              "</style>\n",
              "<table border=\"1\" class=\"dataframe\">\n",
              "  <thead>\n",
              "    <tr style=\"text-align: right;\">\n",
              "      <th></th>\n",
              "      <th>stop_date</th>\n",
              "      <th>stop_time</th>\n",
              "      <th>county_name</th>\n",
              "      <th>driver_gender</th>\n",
              "      <th>driver_age_raw</th>\n",
              "      <th>driver_age</th>\n",
              "      <th>driver_race</th>\n",
              "      <th>violation_raw</th>\n",
              "      <th>violation</th>\n",
              "      <th>search_conducted</th>\n",
              "      <th>search_type</th>\n",
              "      <th>stop_outcome</th>\n",
              "      <th>is_arrested</th>\n",
              "      <th>stop_duration</th>\n",
              "      <th>drugs_related_stop</th>\n",
              "    </tr>\n",
              "  </thead>\n",
              "  <tbody>\n",
              "    <tr>\n",
              "      <th>0</th>\n",
              "      <td>2005-01-02</td>\n",
              "      <td>01:55</td>\n",
              "      <td>NaN</td>\n",
              "      <td>M</td>\n",
              "      <td>1985.0</td>\n",
              "      <td>20.0</td>\n",
              "      <td>White</td>\n",
              "      <td>Speeding</td>\n",
              "      <td>Speeding</td>\n",
              "      <td>False</td>\n",
              "      <td>NaN</td>\n",
              "      <td>Citation</td>\n",
              "      <td>False</td>\n",
              "      <td>0-15 Min</td>\n",
              "      <td>False</td>\n",
              "    </tr>\n",
              "    <tr>\n",
              "      <th>1</th>\n",
              "      <td>2005-01-18</td>\n",
              "      <td>08:15</td>\n",
              "      <td>NaN</td>\n",
              "      <td>M</td>\n",
              "      <td>1965.0</td>\n",
              "      <td>40.0</td>\n",
              "      <td>White</td>\n",
              "      <td>Speeding</td>\n",
              "      <td>Speeding</td>\n",
              "      <td>False</td>\n",
              "      <td>NaN</td>\n",
              "      <td>Citation</td>\n",
              "      <td>False</td>\n",
              "      <td>0-15 Min</td>\n",
              "      <td>False</td>\n",
              "    </tr>\n",
              "    <tr>\n",
              "      <th>2</th>\n",
              "      <td>2005-01-23</td>\n",
              "      <td>23:15</td>\n",
              "      <td>NaN</td>\n",
              "      <td>M</td>\n",
              "      <td>1972.0</td>\n",
              "      <td>33.0</td>\n",
              "      <td>White</td>\n",
              "      <td>Speeding</td>\n",
              "      <td>Speeding</td>\n",
              "      <td>False</td>\n",
              "      <td>NaN</td>\n",
              "      <td>Citation</td>\n",
              "      <td>False</td>\n",
              "      <td>0-15 Min</td>\n",
              "      <td>False</td>\n",
              "    </tr>\n",
              "    <tr>\n",
              "      <th>3</th>\n",
              "      <td>2005-02-20</td>\n",
              "      <td>17:15</td>\n",
              "      <td>NaN</td>\n",
              "      <td>M</td>\n",
              "      <td>1986.0</td>\n",
              "      <td>19.0</td>\n",
              "      <td>White</td>\n",
              "      <td>Call for Service</td>\n",
              "      <td>Other</td>\n",
              "      <td>False</td>\n",
              "      <td>NaN</td>\n",
              "      <td>Arrest Driver</td>\n",
              "      <td>True</td>\n",
              "      <td>16-30 Min</td>\n",
              "      <td>False</td>\n",
              "    </tr>\n",
              "    <tr>\n",
              "      <th>4</th>\n",
              "      <td>2005-03-14</td>\n",
              "      <td>10:00</td>\n",
              "      <td>NaN</td>\n",
              "      <td>F</td>\n",
              "      <td>1984.0</td>\n",
              "      <td>21.0</td>\n",
              "      <td>White</td>\n",
              "      <td>Speeding</td>\n",
              "      <td>Speeding</td>\n",
              "      <td>False</td>\n",
              "      <td>NaN</td>\n",
              "      <td>Citation</td>\n",
              "      <td>False</td>\n",
              "      <td>0-15 Min</td>\n",
              "      <td>False</td>\n",
              "    </tr>\n",
              "    <tr>\n",
              "      <th>5</th>\n",
              "      <td>2005-03-23</td>\n",
              "      <td>09:45</td>\n",
              "      <td>NaN</td>\n",
              "      <td>M</td>\n",
              "      <td>1982.0</td>\n",
              "      <td>23.0</td>\n",
              "      <td>Black</td>\n",
              "      <td>Equipment/Inspection Violation</td>\n",
              "      <td>Equipment</td>\n",
              "      <td>False</td>\n",
              "      <td>NaN</td>\n",
              "      <td>Citation</td>\n",
              "      <td>False</td>\n",
              "      <td>0-15 Min</td>\n",
              "      <td>False</td>\n",
              "    </tr>\n",
              "    <tr>\n",
              "      <th>6</th>\n",
              "      <td>2005-04-01</td>\n",
              "      <td>17:30</td>\n",
              "      <td>NaN</td>\n",
              "      <td>M</td>\n",
              "      <td>1969.0</td>\n",
              "      <td>36.0</td>\n",
              "      <td>White</td>\n",
              "      <td>Speeding</td>\n",
              "      <td>Speeding</td>\n",
              "      <td>False</td>\n",
              "      <td>NaN</td>\n",
              "      <td>Citation</td>\n",
              "      <td>False</td>\n",
              "      <td>0-15 Min</td>\n",
              "      <td>False</td>\n",
              "    </tr>\n",
              "    <tr>\n",
              "      <th>7</th>\n",
              "      <td>2005-06-06</td>\n",
              "      <td>13:20</td>\n",
              "      <td>NaN</td>\n",
              "      <td>F</td>\n",
              "      <td>1986.0</td>\n",
              "      <td>19.0</td>\n",
              "      <td>White</td>\n",
              "      <td>Speeding</td>\n",
              "      <td>Speeding</td>\n",
              "      <td>False</td>\n",
              "      <td>NaN</td>\n",
              "      <td>Citation</td>\n",
              "      <td>False</td>\n",
              "      <td>0-15 Min</td>\n",
              "      <td>False</td>\n",
              "    </tr>\n",
              "    <tr>\n",
              "      <th>8</th>\n",
              "      <td>2005-07-13</td>\n",
              "      <td>10:15</td>\n",
              "      <td>NaN</td>\n",
              "      <td>M</td>\n",
              "      <td>1970.0</td>\n",
              "      <td>35.0</td>\n",
              "      <td>Black</td>\n",
              "      <td>Speeding</td>\n",
              "      <td>Speeding</td>\n",
              "      <td>False</td>\n",
              "      <td>NaN</td>\n",
              "      <td>Citation</td>\n",
              "      <td>False</td>\n",
              "      <td>0-15 Min</td>\n",
              "      <td>False</td>\n",
              "    </tr>\n",
              "    <tr>\n",
              "      <th>9</th>\n",
              "      <td>2005-07-13</td>\n",
              "      <td>15:45</td>\n",
              "      <td>NaN</td>\n",
              "      <td>M</td>\n",
              "      <td>1970.0</td>\n",
              "      <td>35.0</td>\n",
              "      <td>White</td>\n",
              "      <td>Speeding</td>\n",
              "      <td>Speeding</td>\n",
              "      <td>False</td>\n",
              "      <td>NaN</td>\n",
              "      <td>Citation</td>\n",
              "      <td>False</td>\n",
              "      <td>0-15 Min</td>\n",
              "      <td>False</td>\n",
              "    </tr>\n",
              "    <tr>\n",
              "      <th>10</th>\n",
              "      <td>2005-07-13</td>\n",
              "      <td>16:20</td>\n",
              "      <td>NaN</td>\n",
              "      <td>M</td>\n",
              "      <td>1979.0</td>\n",
              "      <td>26.0</td>\n",
              "      <td>Asian</td>\n",
              "      <td>Speeding</td>\n",
              "      <td>Speeding</td>\n",
              "      <td>False</td>\n",
              "      <td>NaN</td>\n",
              "      <td>Citation</td>\n",
              "      <td>False</td>\n",
              "      <td>0-15 Min</td>\n",
              "      <td>False</td>\n",
              "    </tr>\n",
              "    <tr>\n",
              "      <th>11</th>\n",
              "      <td>2005-07-13</td>\n",
              "      <td>19:00</td>\n",
              "      <td>NaN</td>\n",
              "      <td>F</td>\n",
              "      <td>1966.0</td>\n",
              "      <td>39.0</td>\n",
              "      <td>White</td>\n",
              "      <td>Speeding</td>\n",
              "      <td>Speeding</td>\n",
              "      <td>False</td>\n",
              "      <td>NaN</td>\n",
              "      <td>Citation</td>\n",
              "      <td>False</td>\n",
              "      <td>0-15 Min</td>\n",
              "      <td>False</td>\n",
              "    </tr>\n",
              "    <tr>\n",
              "      <th>12</th>\n",
              "      <td>2005-07-14</td>\n",
              "      <td>19:55</td>\n",
              "      <td>NaN</td>\n",
              "      <td>M</td>\n",
              "      <td>1979.0</td>\n",
              "      <td>26.0</td>\n",
              "      <td>White</td>\n",
              "      <td>Speeding</td>\n",
              "      <td>Speeding</td>\n",
              "      <td>False</td>\n",
              "      <td>NaN</td>\n",
              "      <td>Citation</td>\n",
              "      <td>False</td>\n",
              "      <td>0-15 Min</td>\n",
              "      <td>False</td>\n",
              "    </tr>\n",
              "    <tr>\n",
              "      <th>13</th>\n",
              "      <td>2005-07-18</td>\n",
              "      <td>19:30</td>\n",
              "      <td>NaN</td>\n",
              "      <td>F</td>\n",
              "      <td>1984.0</td>\n",
              "      <td>21.0</td>\n",
              "      <td>White</td>\n",
              "      <td>Speeding</td>\n",
              "      <td>Speeding</td>\n",
              "      <td>False</td>\n",
              "      <td>NaN</td>\n",
              "      <td>Citation</td>\n",
              "      <td>False</td>\n",
              "      <td>0-15 Min</td>\n",
              "      <td>False</td>\n",
              "    </tr>\n",
              "    <tr>\n",
              "      <th>14</th>\n",
              "      <td>2005-07-18</td>\n",
              "      <td>19:45</td>\n",
              "      <td>NaN</td>\n",
              "      <td>M</td>\n",
              "      <td>1969.0</td>\n",
              "      <td>36.0</td>\n",
              "      <td>White</td>\n",
              "      <td>Speeding</td>\n",
              "      <td>Speeding</td>\n",
              "      <td>False</td>\n",
              "      <td>NaN</td>\n",
              "      <td>Citation</td>\n",
              "      <td>False</td>\n",
              "      <td>0-15 Min</td>\n",
              "      <td>False</td>\n",
              "    </tr>\n",
              "  </tbody>\n",
              "</table>\n",
              "</div>"
            ],
            "text/plain": [
              "     stop_date stop_time  ...  stop_duration drugs_related_stop\n",
              "0   2005-01-02     01:55  ...       0-15 Min              False\n",
              "1   2005-01-18     08:15  ...       0-15 Min              False\n",
              "2   2005-01-23     23:15  ...       0-15 Min              False\n",
              "3   2005-02-20     17:15  ...      16-30 Min              False\n",
              "4   2005-03-14     10:00  ...       0-15 Min              False\n",
              "5   2005-03-23     09:45  ...       0-15 Min              False\n",
              "6   2005-04-01     17:30  ...       0-15 Min              False\n",
              "7   2005-06-06     13:20  ...       0-15 Min              False\n",
              "8   2005-07-13     10:15  ...       0-15 Min              False\n",
              "9   2005-07-13     15:45  ...       0-15 Min              False\n",
              "10  2005-07-13     16:20  ...       0-15 Min              False\n",
              "11  2005-07-13     19:00  ...       0-15 Min              False\n",
              "12  2005-07-14     19:55  ...       0-15 Min              False\n",
              "13  2005-07-18     19:30  ...       0-15 Min              False\n",
              "14  2005-07-18     19:45  ...       0-15 Min              False\n",
              "\n",
              "[15 rows x 15 columns]"
            ]
          },
          "metadata": {
            "tags": []
          },
          "execution_count": 58
        }
      ]
    },
    {
      "cell_type": "code",
      "metadata": {
        "colab": {
          "base_uri": "https://localhost:8080/"
        },
        "id": "7a9e90d0",
        "outputId": "d5419d03-a7c3-4574-c1e6-1281869ef573"
      },
      "source": [
        "df[sexCol][:15]"
      ],
      "id": "7a9e90d0",
      "execution_count": 59,
      "outputs": [
        {
          "output_type": "execute_result",
          "data": {
            "text/plain": [
              "0     M\n",
              "1     M\n",
              "2     M\n",
              "3     M\n",
              "4     F\n",
              "5     M\n",
              "6     M\n",
              "7     F\n",
              "8     M\n",
              "9     M\n",
              "10    M\n",
              "11    F\n",
              "12    M\n",
              "13    F\n",
              "14    M\n",
              "Name: driver_gender, dtype: object"
            ]
          },
          "metadata": {
            "tags": []
          },
          "execution_count": 59
        }
      ]
    },
    {
      "cell_type": "code",
      "metadata": {
        "colab": {
          "base_uri": "https://localhost:8080/"
        },
        "id": "34a73304",
        "outputId": "d7830d6f-290f-432e-d1c4-eeb9f97106c1"
      },
      "source": [
        "df[sexCol].value_counts()"
      ],
      "id": "34a73304",
      "execution_count": 60,
      "outputs": [
        {
          "output_type": "execute_result",
          "data": {
            "text/plain": [
              "M    62895\n",
              "F    23511\n",
              "Name: driver_gender, dtype: int64"
            ]
          },
          "metadata": {
            "tags": []
          },
          "execution_count": 60
        }
      ]
    },
    {
      "cell_type": "code",
      "metadata": {
        "colab": {
          "base_uri": "https://localhost:8080/"
        },
        "id": "69d01374",
        "outputId": "68f91bcf-e9c4-45ad-88ea-28e3e991c968"
      },
      "source": [
        "df[raceCol].value_counts()"
      ],
      "id": "69d01374",
      "execution_count": 61,
      "outputs": [
        {
          "output_type": "execute_result",
          "data": {
            "text/plain": [
              "White       62158\n",
              "Black       12244\n",
              "Hispanic     9507\n",
              "Asian        2259\n",
              "Other         240\n",
              "Name: driver_race, dtype: int64"
            ]
          },
          "metadata": {
            "tags": []
          },
          "execution_count": 61
        }
      ]
    },
    {
      "cell_type": "code",
      "metadata": {
        "colab": {
          "base_uri": "https://localhost:8080/",
          "height": 282
        },
        "id": "brUx6-vt1Bqy",
        "outputId": "ba2c3bb3-9966-475b-f26a-cd256ecc21cc"
      },
      "source": [
        "df[violation].value_counts().plot(kind = 'barh')"
      ],
      "id": "brUx6-vt1Bqy",
      "execution_count": 62,
      "outputs": [
        {
          "output_type": "execute_result",
          "data": {
            "text/plain": [
              "<matplotlib.axes._subplots.AxesSubplot at 0x7f2f48c030d0>"
            ]
          },
          "metadata": {
            "tags": []
          },
          "execution_count": 62
        },
        {
          "output_type": "display_data",
          "data": {
            "image/png": "[encoded data removed]",
            "text/plain": [
              "<Figure size 432x288 with 1 Axes>"
            ]
          },
          "metadata": {
            "tags": [],
            "needs_background": "light"
          }
        }
      ]
    },
    {
      "cell_type": "code",
      "metadata": {
        "colab": {
          "base_uri": "https://localhost:8080/",
          "height": 265
        },
        "id": "fb90a333",
        "outputId": "66ab90a6-7ccd-498b-b864-5c9f5057bf2c"
      },
      "source": [
        "df[raceCol].value_counts().plot.pie()"
      ],
      "id": "fb90a333",
      "execution_count": 63,
      "outputs": [
        {
          "output_type": "execute_result",
          "data": {
            "text/plain": [
              "<matplotlib.axes._subplots.AxesSubplot at 0x7f2f43d32f50>"
            ]
          },
          "metadata": {
            "tags": []
          },
          "execution_count": 63
        },
        {
          "output_type": "display_data",
          "data": {
            "image/png": "[encoded data removed]",
            "text/plain": [
              "<Figure size 432x288 with 1 Axes>"
            ]
          },
          "metadata": {
            "tags": []
          }
        }
      ]
    },
    {
      "cell_type": "code",
      "metadata": {
        "colab": {
          "base_uri": "https://localhost:8080/"
        },
        "id": "3fda5f29",
        "outputId": "7eb8f2d3-6c38-4709-a62f-ab4083bd219c"
      },
      "source": [
        "df[ageCol].mean()"
      ],
      "id": "3fda5f29",
      "execution_count": 64,
      "outputs": [
        {
          "output_type": "execute_result",
          "data": {
            "text/plain": [
              "34.011333023687875"
            ]
          },
          "metadata": {
            "tags": []
          },
          "execution_count": 64
        }
      ]
    },
    {
      "cell_type": "code",
      "metadata": {
        "colab": {
          "base_uri": "https://localhost:8080/"
        },
        "id": "3512b863",
        "outputId": "090167fb-5f2a-4056-abae-bd35cd9eb1dc"
      },
      "source": [
        "df[ageCol].value_counts()"
      ],
      "id": "3512b863",
      "execution_count": 65,
      "outputs": [
        {
          "output_type": "execute_result",
          "data": {
            "text/plain": [
              "22.0    4125\n",
              "21.0    4063\n",
              "23.0    3986\n",
              "20.0    3794\n",
              "24.0    3782\n",
              "        ... \n",
              "88.0       2\n",
              "99.0       1\n",
              "90.0       1\n",
              "89.0       1\n",
              "94.0       1\n",
              "Name: driver_age, Length: 78, dtype: int64"
            ]
          },
          "metadata": {
            "tags": []
          },
          "execution_count": 65
        }
      ]
    },
    {
      "cell_type": "code",
      "metadata": {
        "colab": {
          "base_uri": "https://localhost:8080/",
          "height": 282
        },
        "id": "a0e6195a",
        "outputId": "518c915f-2e6d-49e0-8825-59d610aac207"
      },
      "source": [
        "df[ageCol].plot(kind = 'hist')"
      ],
      "id": "a0e6195a",
      "execution_count": 66,
      "outputs": [
        {
          "output_type": "execute_result",
          "data": {
            "text/plain": [
              "<matplotlib.axes._subplots.AxesSubplot at 0x7f2f43d02dd0>"
            ]
          },
          "metadata": {
            "tags": []
          },
          "execution_count": 66
        },
        {
          "output_type": "display_data",
          "data": {
            "image/png": "[encoded data removed]",
            "text/plain": [
              "<Figure size 432x288 with 1 Axes>"
            ]
          },
          "metadata": {
            "tags": [],
            "needs_background": "light"
          }
        }
      ]
    },
    {
      "cell_type": "code",
      "metadata": {
        "id": "11cbd6d3"
      },
      "source": [
        "df[ageGroup] = df[ageCol].map(lambda driver_age : (driver_age // 10))"
      ],
      "id": "11cbd6d3",
      "execution_count": 67,
      "outputs": []
    },
    {
      "cell_type": "code",
      "metadata": {
        "colab": {
          "base_uri": "https://localhost:8080/"
        },
        "id": "1bf98bbe",
        "outputId": "29b58ed5-7976-4625-8774-6406c15c37c2"
      },
      "source": [
        "df[ageGroup].value_counts()"
      ],
      "id": "1bf98bbe",
      "execution_count": 68,
      "outputs": [
        {
          "output_type": "execute_result",
          "data": {
            "text/plain": [
              "2.0    34992\n",
              "3.0    18972\n",
              "4.0    14122\n",
              "5.0     8862\n",
              "1.0     5597\n",
              "6.0     2923\n",
              "7.0      568\n",
              "8.0       81\n",
              "9.0        3\n",
              "Name: age_group, dtype: int64"
            ]
          },
          "metadata": {
            "tags": []
          },
          "execution_count": 68
        }
      ]
    },
    {
      "cell_type": "code",
      "metadata": {
        "colab": {
          "base_uri": "https://localhost:8080/",
          "height": 265
        },
        "id": "6e64407f",
        "outputId": "e37f8204-c705-4144-f31a-6d024de16d6f"
      },
      "source": [
        "df[ageGroup].value_counts().plot.pie()"
      ],
      "id": "6e64407f",
      "execution_count": 69,
      "outputs": [
        {
          "output_type": "execute_result",
          "data": {
            "text/plain": [
              "<matplotlib.axes._subplots.AxesSubplot at 0x7f2f43c82510>"
            ]
          },
          "metadata": {
            "tags": []
          },
          "execution_count": 69
        },
        {
          "output_type": "display_data",
          "data": {
            "image/png": "[encoded data removed]",
            "text/plain": [
              "<Figure size 432x288 with 1 Axes>"
            ]
          },
          "metadata": {
            "tags": []
          }
        }
      ]
    },
    {
      "cell_type": "code",
      "metadata": {
        "colab": {
          "base_uri": "https://localhost:8080/",
          "height": 491
        },
        "id": "13dae464",
        "outputId": "3a24713e-6b53-41f9-a501-949a503010b1"
      },
      "source": [
        "df[[raceCol, arrestCol]][:15]"
      ],
      "id": "13dae464",
      "execution_count": 70,
      "outputs": [
        {
          "output_type": "execute_result",
          "data": {
            "text/html": [
              "<div>\n",
              "<style scoped>\n",
              "    .dataframe tbody tr th:only-of-type {\n",
              "        vertical-align: middle;\n",
              "    }\n",
              "\n",
              "    .dataframe tbody tr th {\n",
              "        vertical-align: top;\n",
              "    }\n",
              "\n",
              "    .dataframe thead th {\n",
              "        text-align: right;\n",
              "    }\n",
              "</style>\n",
              "<table border=\"1\" class=\"dataframe\">\n",
              "  <thead>\n",
              "    <tr style=\"text-align: right;\">\n",
              "      <th></th>\n",
              "      <th>driver_race</th>\n",
              "      <th>is_arrested</th>\n",
              "    </tr>\n",
              "  </thead>\n",
              "  <tbody>\n",
              "    <tr>\n",
              "      <th>0</th>\n",
              "      <td>White</td>\n",
              "      <td>False</td>\n",
              "    </tr>\n",
              "    <tr>\n",
              "      <th>1</th>\n",
              "      <td>White</td>\n",
              "      <td>False</td>\n",
              "    </tr>\n",
              "    <tr>\n",
              "      <th>2</th>\n",
              "      <td>White</td>\n",
              "      <td>False</td>\n",
              "    </tr>\n",
              "    <tr>\n",
              "      <th>3</th>\n",
              "      <td>White</td>\n",
              "      <td>True</td>\n",
              "    </tr>\n",
              "    <tr>\n",
              "      <th>4</th>\n",
              "      <td>White</td>\n",
              "      <td>False</td>\n",
              "    </tr>\n",
              "    <tr>\n",
              "      <th>5</th>\n",
              "      <td>Black</td>\n",
              "      <td>False</td>\n",
              "    </tr>\n",
              "    <tr>\n",
              "      <th>6</th>\n",
              "      <td>White</td>\n",
              "      <td>False</td>\n",
              "    </tr>\n",
              "    <tr>\n",
              "      <th>7</th>\n",
              "      <td>White</td>\n",
              "      <td>False</td>\n",
              "    </tr>\n",
              "    <tr>\n",
              "      <th>8</th>\n",
              "      <td>Black</td>\n",
              "      <td>False</td>\n",
              "    </tr>\n",
              "    <tr>\n",
              "      <th>9</th>\n",
              "      <td>White</td>\n",
              "      <td>False</td>\n",
              "    </tr>\n",
              "    <tr>\n",
              "      <th>10</th>\n",
              "      <td>Asian</td>\n",
              "      <td>False</td>\n",
              "    </tr>\n",
              "    <tr>\n",
              "      <th>11</th>\n",
              "      <td>White</td>\n",
              "      <td>False</td>\n",
              "    </tr>\n",
              "    <tr>\n",
              "      <th>12</th>\n",
              "      <td>White</td>\n",
              "      <td>False</td>\n",
              "    </tr>\n",
              "    <tr>\n",
              "      <th>13</th>\n",
              "      <td>White</td>\n",
              "      <td>False</td>\n",
              "    </tr>\n",
              "    <tr>\n",
              "      <th>14</th>\n",
              "      <td>White</td>\n",
              "      <td>False</td>\n",
              "    </tr>\n",
              "  </tbody>\n",
              "</table>\n",
              "</div>"
            ],
            "text/plain": [
              "   driver_race is_arrested\n",
              "0        White       False\n",
              "1        White       False\n",
              "2        White       False\n",
              "3        White        True\n",
              "4        White       False\n",
              "5        Black       False\n",
              "6        White       False\n",
              "7        White       False\n",
              "8        Black       False\n",
              "9        White       False\n",
              "10       Asian       False\n",
              "11       White       False\n",
              "12       White       False\n",
              "13       White       False\n",
              "14       White       False"
            ]
          },
          "metadata": {
            "tags": []
          },
          "execution_count": 70
        }
      ]
    },
    {
      "cell_type": "code",
      "metadata": {
        "id": "f868d5d4"
      },
      "source": [
        ""
      ],
      "id": "f868d5d4",
      "execution_count": 70,
      "outputs": []
    },
    {
      "cell_type": "code",
      "metadata": {
        "colab": {
          "base_uri": "https://localhost:8080/"
        },
        "id": "1697d01f",
        "outputId": "aa16e4b5-3bf0-46da-e41e-3127519cefc7"
      },
      "source": [
        "race_by_arrested = df.groupby([raceCol, arrestCol])\n",
        "race_by_arrested.size()"
      ],
      "id": "1697d01f",
      "execution_count": 71,
      "outputs": [
        {
          "output_type": "execute_result",
          "data": {
            "text/plain": [
              "driver_race  is_arrested\n",
              "Asian        False           2218\n",
              "             True              41\n",
              "Black        False          11539\n",
              "             True             705\n",
              "Hispanic     False           8941\n",
              "             True             566\n",
              "Other        False            238\n",
              "             True               2\n",
              "White        False          60543\n",
              "             True            1615\n",
              "dtype: int64"
            ]
          },
          "metadata": {
            "tags": []
          },
          "execution_count": 71
        }
      ]
    },
    {
      "cell_type": "code",
      "metadata": {
        "id": "776ae50b"
      },
      "source": [
        "race_by_arrested = race_by_arrested.size().unstack()"
      ],
      "id": "776ae50b",
      "execution_count": 72,
      "outputs": []
    },
    {
      "cell_type": "code",
      "metadata": {
        "colab": {
          "base_uri": "https://localhost:8080/",
          "height": 225
        },
        "id": "6e2fa90b",
        "outputId": "a0ab65ae-a58a-46c9-cc14-f739f31404b9"
      },
      "source": [
        "race_by_arrested"
      ],
      "id": "6e2fa90b",
      "execution_count": 73,
      "outputs": [
        {
          "output_type": "execute_result",
          "data": {
            "text/html": [
              "<div>\n",
              "<style scoped>\n",
              "    .dataframe tbody tr th:only-of-type {\n",
              "        vertical-align: middle;\n",
              "    }\n",
              "\n",
              "    .dataframe tbody tr th {\n",
              "        vertical-align: top;\n",
              "    }\n",
              "\n",
              "    .dataframe thead th {\n",
              "        text-align: right;\n",
              "    }\n",
              "</style>\n",
              "<table border=\"1\" class=\"dataframe\">\n",
              "  <thead>\n",
              "    <tr style=\"text-align: right;\">\n",
              "      <th>is_arrested</th>\n",
              "      <th>False</th>\n",
              "      <th>True</th>\n",
              "    </tr>\n",
              "    <tr>\n",
              "      <th>driver_race</th>\n",
              "      <th></th>\n",
              "      <th></th>\n",
              "    </tr>\n",
              "  </thead>\n",
              "  <tbody>\n",
              "    <tr>\n",
              "      <th>Asian</th>\n",
              "      <td>2218</td>\n",
              "      <td>41</td>\n",
              "    </tr>\n",
              "    <tr>\n",
              "      <th>Black</th>\n",
              "      <td>11539</td>\n",
              "      <td>705</td>\n",
              "    </tr>\n",
              "    <tr>\n",
              "      <th>Hispanic</th>\n",
              "      <td>8941</td>\n",
              "      <td>566</td>\n",
              "    </tr>\n",
              "    <tr>\n",
              "      <th>Other</th>\n",
              "      <td>238</td>\n",
              "      <td>2</td>\n",
              "    </tr>\n",
              "    <tr>\n",
              "      <th>White</th>\n",
              "      <td>60543</td>\n",
              "      <td>1615</td>\n",
              "    </tr>\n",
              "  </tbody>\n",
              "</table>\n",
              "</div>"
            ],
            "text/plain": [
              "is_arrested  False  True \n",
              "driver_race              \n",
              "Asian         2218     41\n",
              "Black        11539    705\n",
              "Hispanic      8941    566\n",
              "Other          238      2\n",
              "White        60543   1615"
            ]
          },
          "metadata": {
            "tags": []
          },
          "execution_count": 73
        }
      ]
    },
    {
      "cell_type": "code",
      "metadata": {
        "scrolled": false,
        "colab": {
          "base_uri": "https://localhost:8080/",
          "height": 282
        },
        "id": "62637e87",
        "outputId": "15715788-7be4-4d40-f1b7-8e1a204a4bb5"
      },
      "source": [
        "race_by_arrested.plot(kind = 'barh', stacked = True)"
      ],
      "id": "62637e87",
      "execution_count": 74,
      "outputs": [
        {
          "output_type": "execute_result",
          "data": {
            "text/plain": [
              "<matplotlib.axes._subplots.AxesSubplot at 0x7f2f4397b390>"
            ]
          },
          "metadata": {
            "tags": []
          },
          "execution_count": 74
        },
        {
          "output_type": "display_data",
          "data": {
            "image/png": "[encoded data removed]",
            "text/plain": [
              "<Figure size 432x288 with 1 Axes>"
            ]
          },
          "metadata": {
            "tags": [],
            "needs_background": "light"
          }
        }
      ]
    },
    {
      "cell_type": "code",
      "metadata": {
        "colab": {
          "base_uri": "https://localhost:8080/"
        },
        "id": "eedac849",
        "outputId": "02fb62f6-62fa-4d0c-d94f-ca27074a2d1c"
      },
      "source": [
        "def percentage (r):\n",
        "    return [float(v) / sum(r) for v in r]\n",
        "\n",
        "race_by_arrested = race_by_arrested.apply(percentage, axis = 1)\n",
        "race_by_arrested"
      ],
      "id": "eedac849",
      "execution_count": 75,
      "outputs": [
        {
          "output_type": "execute_result",
          "data": {
            "text/plain": [
              "driver_race\n",
              "Asian         [0.981850376272687, 0.01814962372731297]\n",
              "Black         [0.942420777523685, 0.05757922247631493]\n",
              "Hispanic     [0.9404649205848322, 0.05953507941516777]\n",
              "Other       [0.9916666666666667, 0.008333333333333333]\n",
              "White       [0.9740178255413623, 0.025982174458637666]\n",
              "dtype: object"
            ]
          },
          "metadata": {
            "tags": []
          },
          "execution_count": 75
        }
      ]
    },
    {
      "cell_type": "code",
      "metadata": {
        "colab": {
          "base_uri": "https://localhost:8080/",
          "height": 225
        },
        "id": "iNj7ieqqUim6",
        "outputId": "ef38bc54-64e9-42c6-de4c-1badcba6e7d1"
      },
      "source": [
        "race_by_arrested = pd.DataFrame(data=race_by_arrested, columns=['a'])\n",
        "race_by_arrested['False'] = race_by_arrested['a'].apply(lambda x: x[0])\n",
        "race_by_arrested['True'] = race_by_arrested['a'].apply(lambda x: x[1])\n",
        "race_by_arrested = race_by_arrested.drop(['a'], axis=1)\n",
        "race_by_arrested"
      ],
      "id": "iNj7ieqqUim6",
      "execution_count": 76,
      "outputs": [
        {
          "output_type": "execute_result",
          "data": {
            "text/html": [
              "<div>\n",
              "<style scoped>\n",
              "    .dataframe tbody tr th:only-of-type {\n",
              "        vertical-align: middle;\n",
              "    }\n",
              "\n",
              "    .dataframe tbody tr th {\n",
              "        vertical-align: top;\n",
              "    }\n",
              "\n",
              "    .dataframe thead th {\n",
              "        text-align: right;\n",
              "    }\n",
              "</style>\n",
              "<table border=\"1\" class=\"dataframe\">\n",
              "  <thead>\n",
              "    <tr style=\"text-align: right;\">\n",
              "      <th></th>\n",
              "      <th>False</th>\n",
              "      <th>True</th>\n",
              "    </tr>\n",
              "    <tr>\n",
              "      <th>driver_race</th>\n",
              "      <th></th>\n",
              "      <th></th>\n",
              "    </tr>\n",
              "  </thead>\n",
              "  <tbody>\n",
              "    <tr>\n",
              "      <th>Asian</th>\n",
              "      <td>0.981850</td>\n",
              "      <td>0.018150</td>\n",
              "    </tr>\n",
              "    <tr>\n",
              "      <th>Black</th>\n",
              "      <td>0.942421</td>\n",
              "      <td>0.057579</td>\n",
              "    </tr>\n",
              "    <tr>\n",
              "      <th>Hispanic</th>\n",
              "      <td>0.940465</td>\n",
              "      <td>0.059535</td>\n",
              "    </tr>\n",
              "    <tr>\n",
              "      <th>Other</th>\n",
              "      <td>0.991667</td>\n",
              "      <td>0.008333</td>\n",
              "    </tr>\n",
              "    <tr>\n",
              "      <th>White</th>\n",
              "      <td>0.974018</td>\n",
              "      <td>0.025982</td>\n",
              "    </tr>\n",
              "  </tbody>\n",
              "</table>\n",
              "</div>"
            ],
            "text/plain": [
              "                False      True\n",
              "driver_race                    \n",
              "Asian        0.981850  0.018150\n",
              "Black        0.942421  0.057579\n",
              "Hispanic     0.940465  0.059535\n",
              "Other        0.991667  0.008333\n",
              "White        0.974018  0.025982"
            ]
          },
          "metadata": {
            "tags": []
          },
          "execution_count": 76
        }
      ]
    },
    {
      "cell_type": "code",
      "metadata": {
        "colab": {
          "base_uri": "https://localhost:8080/",
          "height": 282
        },
        "id": "c50adbf3",
        "outputId": "5e9faee1-21f4-41d6-c9f2-c544a9690df1"
      },
      "source": [
        "race_by_arrested.plot(kind = 'barh', stacked = True)"
      ],
      "id": "c50adbf3",
      "execution_count": 77,
      "outputs": [
        {
          "output_type": "execute_result",
          "data": {
            "text/plain": [
              "<matplotlib.axes._subplots.AxesSubplot at 0x7f2f43c047d0>"
            ]
          },
          "metadata": {
            "tags": []
          },
          "execution_count": 77
        },
        {
          "output_type": "display_data",
          "data": {
            "image/png": "[encoded data removed]",
            "text/plain": [
              "<Figure size 432x288 with 1 Axes>"
            ]
          },
          "metadata": {
            "tags": [],
            "needs_background": "light"
          }
        }
      ]
    },
    {
      "cell_type": "code",
      "metadata": {
        "colab": {
          "base_uri": "https://localhost:8080/"
        },
        "id": "2b193e4d",
        "outputId": "6796b436-0614-469e-afaf-a356e56425a3"
      },
      "source": [
        "df.groupby([sexCol, arrestCol]).size().unstack().apply(percentage, axis=1)"
      ],
      "id": "2b193e4d",
      "execution_count": 78,
      "outputs": [
        {
          "output_type": "execute_result",
          "data": {
            "text/plain": [
              "driver_gender\n",
              "F     [0.9746501637531368, 0.02534983624686317]\n",
              "M    [0.9629064313538437, 0.037093568646156296]\n",
              "dtype: object"
            ]
          },
          "metadata": {
            "tags": []
          },
          "execution_count": 78
        }
      ]
    },
    {
      "cell_type": "code",
      "metadata": {
        "colab": {
          "base_uri": "https://localhost:8080/"
        },
        "id": "d5ea5cdf",
        "outputId": "01d98c1b-067d-479e-c130-7fc326396892"
      },
      "source": [
        "race_by_drug = df.groupby([raceCol, drugCol])\n",
        "race_by_drug.size()"
      ],
      "id": "d5ea5cdf",
      "execution_count": 79,
      "outputs": [
        {
          "output_type": "execute_result",
          "data": {
            "text/plain": [
              "driver_race  drugs_related_stop\n",
              "Asian        False                  2248\n",
              "             True                     11\n",
              "Black        False                 12043\n",
              "             True                    201\n",
              "Hispanic     False                  9381\n",
              "             True                    126\n",
              "Other        False                   239\n",
              "             True                      1\n",
              "White        False                 61682\n",
              "             True                    476\n",
              "dtype: int64"
            ]
          },
          "metadata": {
            "tags": []
          },
          "execution_count": 79
        }
      ]
    },
    {
      "cell_type": "code",
      "metadata": {
        "id": "f4b78847"
      },
      "source": [
        "race_by_drug = race_by_drug.size().unstack()"
      ],
      "id": "f4b78847",
      "execution_count": 80,
      "outputs": []
    },
    {
      "cell_type": "code",
      "metadata": {
        "colab": {
          "base_uri": "https://localhost:8080/",
          "height": 225
        },
        "id": "0raI4DlXmF_F",
        "outputId": "66ac5887-3f3a-40eb-e399-3cd82e2ecee8"
      },
      "source": [
        "race_by_drug"
      ],
      "id": "0raI4DlXmF_F",
      "execution_count": 81,
      "outputs": [
        {
          "output_type": "execute_result",
          "data": {
            "text/html": [
              "<div>\n",
              "<style scoped>\n",
              "    .dataframe tbody tr th:only-of-type {\n",
              "        vertical-align: middle;\n",
              "    }\n",
              "\n",
              "    .dataframe tbody tr th {\n",
              "        vertical-align: top;\n",
              "    }\n",
              "\n",
              "    .dataframe thead th {\n",
              "        text-align: right;\n",
              "    }\n",
              "</style>\n",
              "<table border=\"1\" class=\"dataframe\">\n",
              "  <thead>\n",
              "    <tr style=\"text-align: right;\">\n",
              "      <th>drugs_related_stop</th>\n",
              "      <th>False</th>\n",
              "      <th>True</th>\n",
              "    </tr>\n",
              "    <tr>\n",
              "      <th>driver_race</th>\n",
              "      <th></th>\n",
              "      <th></th>\n",
              "    </tr>\n",
              "  </thead>\n",
              "  <tbody>\n",
              "    <tr>\n",
              "      <th>Asian</th>\n",
              "      <td>2248</td>\n",
              "      <td>11</td>\n",
              "    </tr>\n",
              "    <tr>\n",
              "      <th>Black</th>\n",
              "      <td>12043</td>\n",
              "      <td>201</td>\n",
              "    </tr>\n",
              "    <tr>\n",
              "      <th>Hispanic</th>\n",
              "      <td>9381</td>\n",
              "      <td>126</td>\n",
              "    </tr>\n",
              "    <tr>\n",
              "      <th>Other</th>\n",
              "      <td>239</td>\n",
              "      <td>1</td>\n",
              "    </tr>\n",
              "    <tr>\n",
              "      <th>White</th>\n",
              "      <td>61682</td>\n",
              "      <td>476</td>\n",
              "    </tr>\n",
              "  </tbody>\n",
              "</table>\n",
              "</div>"
            ],
            "text/plain": [
              "drugs_related_stop  False  True \n",
              "driver_race                     \n",
              "Asian                2248     11\n",
              "Black               12043    201\n",
              "Hispanic             9381    126\n",
              "Other                 239      1\n",
              "White               61682    476"
            ]
          },
          "metadata": {
            "tags": []
          },
          "execution_count": 81
        }
      ]
    },
    {
      "cell_type": "code",
      "metadata": {
        "colab": {
          "base_uri": "https://localhost:8080/"
        },
        "id": "v3OgUqCmmGnT",
        "outputId": "f0805281-1326-488d-c319-8e1d305e03e3"
      },
      "source": [
        "race_by_drug = race_by_drug.apply(percentage, axis = 1)\n",
        "race_by_drug"
      ],
      "id": "v3OgUqCmmGnT",
      "execution_count": 82,
      "outputs": [
        {
          "output_type": "execute_result",
          "data": {
            "text/plain": [
              "driver_race\n",
              "Asian        [0.9951305887560867, 0.004869411243913236]\n",
              "Black        [0.9835837961450506, 0.016416203854949362]\n",
              "Hispanic     [0.9867466077627012, 0.013253392237298833]\n",
              "Other        [0.9958333333333333, 0.004166666666666667]\n",
              "White       [0.9923420959490331, 0.0076579040509668905]\n",
              "dtype: object"
            ]
          },
          "metadata": {
            "tags": []
          },
          "execution_count": 82
        }
      ]
    },
    {
      "cell_type": "code",
      "metadata": {
        "colab": {
          "base_uri": "https://localhost:8080/",
          "height": 225
        },
        "id": "vFnqX1qysOn4",
        "outputId": "96e4d765-a6e4-4568-9890-ed2482d5e544"
      },
      "source": [
        "race_by_drug = pd.DataFrame(data=race_by_drug, columns=['b'])\n",
        "race_by_drug['False'] = race_by_drug['b'].apply(lambda x: x[0])\n",
        "race_by_drug['True'] = race_by_drug['b'].apply(lambda x: x[1])\n",
        "race_by_drug = race_by_drug.drop(['b'], axis=1)\n",
        "race_by_drug"
      ],
      "id": "vFnqX1qysOn4",
      "execution_count": 83,
      "outputs": [
        {
          "output_type": "execute_result",
          "data": {
            "text/html": [
              "<div>\n",
              "<style scoped>\n",
              "    .dataframe tbody tr th:only-of-type {\n",
              "        vertical-align: middle;\n",
              "    }\n",
              "\n",
              "    .dataframe tbody tr th {\n",
              "        vertical-align: top;\n",
              "    }\n",
              "\n",
              "    .dataframe thead th {\n",
              "        text-align: right;\n",
              "    }\n",
              "</style>\n",
              "<table border=\"1\" class=\"dataframe\">\n",
              "  <thead>\n",
              "    <tr style=\"text-align: right;\">\n",
              "      <th></th>\n",
              "      <th>False</th>\n",
              "      <th>True</th>\n",
              "    </tr>\n",
              "    <tr>\n",
              "      <th>driver_race</th>\n",
              "      <th></th>\n",
              "      <th></th>\n",
              "    </tr>\n",
              "  </thead>\n",
              "  <tbody>\n",
              "    <tr>\n",
              "      <th>Asian</th>\n",
              "      <td>0.995131</td>\n",
              "      <td>0.004869</td>\n",
              "    </tr>\n",
              "    <tr>\n",
              "      <th>Black</th>\n",
              "      <td>0.983584</td>\n",
              "      <td>0.016416</td>\n",
              "    </tr>\n",
              "    <tr>\n",
              "      <th>Hispanic</th>\n",
              "      <td>0.986747</td>\n",
              "      <td>0.013253</td>\n",
              "    </tr>\n",
              "    <tr>\n",
              "      <th>Other</th>\n",
              "      <td>0.995833</td>\n",
              "      <td>0.004167</td>\n",
              "    </tr>\n",
              "    <tr>\n",
              "      <th>White</th>\n",
              "      <td>0.992342</td>\n",
              "      <td>0.007658</td>\n",
              "    </tr>\n",
              "  </tbody>\n",
              "</table>\n",
              "</div>"
            ],
            "text/plain": [
              "                False      True\n",
              "driver_race                    \n",
              "Asian        0.995131  0.004869\n",
              "Black        0.983584  0.016416\n",
              "Hispanic     0.986747  0.013253\n",
              "Other        0.995833  0.004167\n",
              "White        0.992342  0.007658"
            ]
          },
          "metadata": {
            "tags": []
          },
          "execution_count": 83
        }
      ]
    },
    {
      "cell_type": "code",
      "metadata": {
        "colab": {
          "base_uri": "https://localhost:8080/",
          "height": 282
        },
        "id": "aMVg6dTNsPdc",
        "outputId": "59c73c7d-eeca-43a3-b9c0-e4076ec0023f"
      },
      "source": [
        "race_by_drug.plot(kind = 'barh', stacked = True)"
      ],
      "id": "aMVg6dTNsPdc",
      "execution_count": 84,
      "outputs": [
        {
          "output_type": "execute_result",
          "data": {
            "text/plain": [
              "<matplotlib.axes._subplots.AxesSubplot at 0x7f2f43b897d0>"
            ]
          },
          "metadata": {
            "tags": []
          },
          "execution_count": 84
        },
        {
          "output_type": "display_data",
          "data": {
            "image/png": "[encoded data removed]",
            "text/plain": [
              "<Figure size 432x288 with 1 Axes>"
            ]
          },
          "metadata": {
            "tags": [],
            "needs_background": "light"
          }
        }
      ]
    },
    {
      "cell_type": "code",
      "metadata": {
        "id": "M-C6OlvXsQFM",
        "colab": {
          "base_uri": "https://localhost:8080/",
          "height": 136
        },
        "outputId": "d1618dbf-8c5c-4309-e72e-856839ba6f74"
      },
      "source": [
        "sex_by_arrested = df.groupby([sexCol, arrestCol]).size().unstack()\n",
        "sex_by_arrested"
      ],
      "id": "M-C6OlvXsQFM",
      "execution_count": 85,
      "outputs": [
        {
          "output_type": "execute_result",
          "data": {
            "text/html": [
              "<div>\n",
              "<style scoped>\n",
              "    .dataframe tbody tr th:only-of-type {\n",
              "        vertical-align: middle;\n",
              "    }\n",
              "\n",
              "    .dataframe tbody tr th {\n",
              "        vertical-align: top;\n",
              "    }\n",
              "\n",
              "    .dataframe thead th {\n",
              "        text-align: right;\n",
              "    }\n",
              "</style>\n",
              "<table border=\"1\" class=\"dataframe\">\n",
              "  <thead>\n",
              "    <tr style=\"text-align: right;\">\n",
              "      <th>is_arrested</th>\n",
              "      <th>False</th>\n",
              "      <th>True</th>\n",
              "    </tr>\n",
              "    <tr>\n",
              "      <th>driver_gender</th>\n",
              "      <th></th>\n",
              "      <th></th>\n",
              "    </tr>\n",
              "  </thead>\n",
              "  <tbody>\n",
              "    <tr>\n",
              "      <th>F</th>\n",
              "      <td>22915</td>\n",
              "      <td>596</td>\n",
              "    </tr>\n",
              "    <tr>\n",
              "      <th>M</th>\n",
              "      <td>60562</td>\n",
              "      <td>2333</td>\n",
              "    </tr>\n",
              "  </tbody>\n",
              "</table>\n",
              "</div>"
            ],
            "text/plain": [
              "is_arrested    False  True \n",
              "driver_gender              \n",
              "F              22915    596\n",
              "M              60562   2333"
            ]
          },
          "metadata": {
            "tags": []
          },
          "execution_count": 85
        }
      ]
    },
    {
      "cell_type": "code",
      "metadata": {
        "id": "T2jA50TosQIg",
        "colab": {
          "base_uri": "https://localhost:8080/"
        },
        "outputId": "fd269001-7905-4ce1-eb6b-25c883699462"
      },
      "source": [
        "sex_by_arrested = sex_by_arrested.apply(percentage, axis = 1)\n",
        "sex_by_arrested"
      ],
      "id": "T2jA50TosQIg",
      "execution_count": 86,
      "outputs": [
        {
          "output_type": "execute_result",
          "data": {
            "text/plain": [
              "driver_gender\n",
              "F     [0.9746501637531368, 0.02534983624686317]\n",
              "M    [0.9629064313538437, 0.037093568646156296]\n",
              "dtype: object"
            ]
          },
          "metadata": {
            "tags": []
          },
          "execution_count": 86
        }
      ]
    },
    {
      "cell_type": "code",
      "metadata": {
        "id": "6mOt9IDVsQLq",
        "colab": {
          "base_uri": "https://localhost:8080/",
          "height": 136
        },
        "outputId": "a16b7140-53a7-4cd4-c88f-14ce6cd78775"
      },
      "source": [
        "sex_by_arrested = pd.DataFrame(data=sex_by_arrested, columns=['c'])\n",
        "sex_by_arrested['False'] = sex_by_arrested['c'].apply(lambda x: x[0])\n",
        "sex_by_arrested['True'] = sex_by_arrested['c'].apply(lambda x: x[1])\n",
        "sex_by_arrested = sex_by_arrested.drop(['c'], axis=1)\n",
        "sex_by_arrested"
      ],
      "id": "6mOt9IDVsQLq",
      "execution_count": 87,
      "outputs": [
        {
          "output_type": "execute_result",
          "data": {
            "text/html": [
              "<div>\n",
              "<style scoped>\n",
              "    .dataframe tbody tr th:only-of-type {\n",
              "        vertical-align: middle;\n",
              "    }\n",
              "\n",
              "    .dataframe tbody tr th {\n",
              "        vertical-align: top;\n",
              "    }\n",
              "\n",
              "    .dataframe thead th {\n",
              "        text-align: right;\n",
              "    }\n",
              "</style>\n",
              "<table border=\"1\" class=\"dataframe\">\n",
              "  <thead>\n",
              "    <tr style=\"text-align: right;\">\n",
              "      <th></th>\n",
              "      <th>False</th>\n",
              "      <th>True</th>\n",
              "    </tr>\n",
              "    <tr>\n",
              "      <th>driver_gender</th>\n",
              "      <th></th>\n",
              "      <th></th>\n",
              "    </tr>\n",
              "  </thead>\n",
              "  <tbody>\n",
              "    <tr>\n",
              "      <th>F</th>\n",
              "      <td>0.974650</td>\n",
              "      <td>0.025350</td>\n",
              "    </tr>\n",
              "    <tr>\n",
              "      <th>M</th>\n",
              "      <td>0.962906</td>\n",
              "      <td>0.037094</td>\n",
              "    </tr>\n",
              "  </tbody>\n",
              "</table>\n",
              "</div>"
            ],
            "text/plain": [
              "                  False      True\n",
              "driver_gender                    \n",
              "F              0.974650  0.025350\n",
              "M              0.962906  0.037094"
            ]
          },
          "metadata": {
            "tags": []
          },
          "execution_count": 87
        }
      ]
    },
    {
      "cell_type": "code",
      "metadata": {
        "id": "9XsRlIVYsQOZ",
        "colab": {
          "base_uri": "https://localhost:8080/",
          "height": 282
        },
        "outputId": "bedad92b-f632-4592-ba09-9955e1d7d2bd"
      },
      "source": [
        "sex_by_arrested.plot(kind = 'barh', stacked = True)"
      ],
      "id": "9XsRlIVYsQOZ",
      "execution_count": 88,
      "outputs": [
        {
          "output_type": "execute_result",
          "data": {
            "text/plain": [
              "<matplotlib.axes._subplots.AxesSubplot at 0x7f2f43aaf1d0>"
            ]
          },
          "metadata": {
            "tags": []
          },
          "execution_count": 88
        },
        {
          "output_type": "display_data",
          "data": {
            "image/png": "[encoded data removed]",
            "text/plain": [
              "<Figure size 432x288 with 1 Axes>"
            ]
          },
          "metadata": {
            "tags": [],
            "needs_background": "light"
          }
        }
      ]
    },
    {
      "cell_type": "code",
      "metadata": {
        "id": "wCr0pAMZyuiU"
      },
      "source": [
        ""
      ],
      "id": "wCr0pAMZyuiU",
      "execution_count": 88,
      "outputs": []
    },
    {
      "cell_type": "code",
      "metadata": {
        "id": "qBqGoTN8yuCJ"
      },
      "source": [
        ""
      ],
      "id": "qBqGoTN8yuCJ",
      "execution_count": 88,
      "outputs": []
    },
    {
      "cell_type": "code",
      "metadata": {
        "id": "oU2NEIY_ytHp"
      },
      "source": [
        ""
      ],
      "id": "oU2NEIY_ytHp",
      "execution_count": 88,
      "outputs": []
    },
    {
      "cell_type": "code",
      "metadata": {
        "id": "hUcWPeKSysSi"
      },
      "source": [
        ""
      ],
      "id": "hUcWPeKSysSi",
      "execution_count": 88,
      "outputs": []
    },
    {
      "cell_type": "code",
      "metadata": {
        "id": "_WMBeFtosQRy"
      },
      "source": [
        ""
      ],
      "id": "_WMBeFtosQRy",
      "execution_count": 88,
      "outputs": []
    }
  ]
}